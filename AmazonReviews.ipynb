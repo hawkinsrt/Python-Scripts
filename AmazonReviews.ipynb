{
 "cells": [
  {
   "cell_type": "code",
   "execution_count": null,
   "metadata": {},
   "outputs": [],
   "source": [
    "import json\n",
    "import datetime as dt\n",
    "import pandas as pd\n",
    "import matplotlib.pyplot as plt\n",
    "import requests\n",
    "import nltk\n",
    "from textblob import TextBlob\n",
    "from elasticsearch import Elasticsearch\n"
   ]
  },
  {
   "cell_type": "code",
   "execution_count": null,
   "metadata": {},
   "outputs": [],
   "source": [
    "file = r'C:\\Users\\user\\Documents\\Python Scripts\\data\\Video_Games_5.json'\n",
    "\n",
    "with open(file) as x:\n",
    "    jsondata = pd.read_json(x, lines=True, chunksize=1000)\n",
    "    df = pd.DataFrame()\n",
    "    for d in jsondata:\n",
    "        df = df.append(d)\n",
    "x.close()\n",
    "del x"
   ]
  },
  {
   "cell_type": "code",
   "execution_count": null,
   "metadata": {},
   "outputs": [],
   "source": [
    "df['reviewTime'] = pd.to_datetime(df['reviewTime'], format='%m %d, %Y')\n",
    "\n",
    "reviewdf = df[['asin', 'overall', 'summary', 'reviewText', 'reviewTime']]\n",
    "cols_list = ['Item', 'Stars', 'Review_Title', 'Review', 'Date']\n",
    "reviewdf.columns = cols_list\n",
    "print(reviewdf.head())\n",
    "print(reviewdf['Review'].head())\n",
    "#del df commented out so I can quickly reset the dataframe to original state"
   ]
  },
  {
   "cell_type": "code",
   "execution_count": null,
   "metadata": {},
   "outputs": [],
   "source": [
    "#Take just a 100 reviews to test code will work\n",
    "reviewdf = reviewdf[:100]\n",
    "reviewdf.info()"
   ]
  },
  {
   "cell_type": "code",
   "execution_count": null,
   "metadata": {},
   "outputs": [],
   "source": [
    "#Make Reviews all lower case\n",
    "reviewdf['Review_Clean'] = reviewdf['Review'].apply(lambda x: \" \".join(x.lower() for x in x.split()))"
   ]
  },
  {
   "cell_type": "code",
   "execution_count": null,
   "metadata": {},
   "outputs": [],
   "source": [
    "#Remove punctuation\n",
    "reviewdf['Review_Clean'] = reviewdf['Review_Clean'].str.replace('[^\\w\\s]','')"
   ]
  },
  {
   "cell_type": "code",
   "execution_count": null,
   "metadata": {},
   "outputs": [],
   "source": [
    "#Remove english stop words\n",
    "stop = stopwords.words('english')\n",
    "reviewdf['Review_Clean'] = reviewdf['Review_Clean'].apply(lambda x: \" \".join(x for x in x.split() if x not in stop))"
   ]
  },
  {
   "cell_type": "code",
   "execution_count": null,
   "metadata": {},
   "outputs": [],
   "source": [
    "#Remove the 10 most common words\n",
    "freq = pd.Series(' '.join(reviewdf['Review_Clean']).split()).value_counts()[:10]\n",
    "\n",
    "freq = list(freq.index)\n",
    "reviewdf['Review_Clean'] = reviewdf['Review_Clean'].apply(lambda x: \" \".join(x for x in x.split() if x not in freq))"
   ]
  },
  {
   "cell_type": "code",
   "execution_count": null,
   "metadata": {},
   "outputs": [],
   "source": [
    "#Remove the 10 rarest words\n",
    "freq = pd.Series(' '.join(reviewdf['Review_Clean']).split()).value_counts()[-10:]\n",
    "\n",
    "freq = list(freq.index)\n",
    "reviewdf['Review_Clean'] = reviewdf['Review_Clean'].apply(lambda x: \" \".join(x for x in x.split() if x not in freq))"
   ]
  },
  {
   "cell_type": "code",
   "execution_count": null,
   "metadata": {},
   "outputs": [],
   "source": [
    "#Lemmatization and Tokenization\n",
    "w_tokenizer = nltk.tokenize.WhitespaceTokenizer()\n",
    "lemmatizer = nltk.stem.WordNetLemmatizer()\n",
    "\n",
    "def lemmatize_text(text):\n",
    "    return [lemmatizer.lemmatize(w) for w in w_tokenizer.tokenize(text)]\n",
    "\n",
    "reviewdf['Review_Token'] = reviewdf['Review_Clean'].apply(lemmatize_text)"
   ]
  },
  {
   "cell_type": "code",
   "execution_count": null,
   "metadata": {},
   "outputs": [],
   "source": [
    "#Get Review Length for both Originial Reivew and Cleaned Tokens\n",
    "reviewdf['Review_Length'] = reviewdf['Review'].apply(lemmatize_text).apply(len)\n",
    "reviewdf['Review_Clean_Length'] = reviewdf['Review_Token'].apply(len)"
   ]
  },
  {
   "cell_type": "code",
   "execution_count": 214,
   "metadata": {},
   "outputs": [],
   "source": [
    "#Calculate number of words removed\n",
    "\n",
    "reviewdf['WordsRemoved'] = reviewdf[\"Review_Length\"] - reviewdf['Review_Clean_Length']"
   ]
  },
  {
   "cell_type": "code",
   "execution_count": 216,
   "metadata": {},
   "outputs": [
    {
     "data": {
      "text/html": [
       "<div>\n",
       "<style scoped>\n",
       "    .dataframe tbody tr th:only-of-type {\n",
       "        vertical-align: middle;\n",
       "    }\n",
       "\n",
       "    .dataframe tbody tr th {\n",
       "        vertical-align: top;\n",
       "    }\n",
       "\n",
       "    .dataframe thead th {\n",
       "        text-align: right;\n",
       "    }\n",
       "</style>\n",
       "<table border=\"1\" class=\"dataframe\">\n",
       "  <thead>\n",
       "    <tr style=\"text-align: right;\">\n",
       "      <th></th>\n",
       "      <th>Item</th>\n",
       "      <th>Stars</th>\n",
       "      <th>Review_Title</th>\n",
       "      <th>Review</th>\n",
       "      <th>Date</th>\n",
       "      <th>Review_Clean</th>\n",
       "      <th>Review_Token</th>\n",
       "      <th>Review_Length</th>\n",
       "      <th>Review_Clean_Length</th>\n",
       "      <th>WordsRemoved</th>\n",
       "    </tr>\n",
       "  </thead>\n",
       "  <tbody>\n",
       "    <tr>\n",
       "      <th>0</th>\n",
       "      <td>0700099867</td>\n",
       "      <td>1</td>\n",
       "      <td>Pay to unlock content? I don't think so.</td>\n",
       "      <td>Installing the game was a struggle (because of...</td>\n",
       "      <td>2012-07-09</td>\n",
       "      <td>installing struggle windows live bugssome cham...</td>\n",
       "      <td>[installing, struggle, window, live, bugssome,...</td>\n",
       "      <td>118</td>\n",
       "      <td>55</td>\n",
       "      <td>63</td>\n",
       "    </tr>\n",
       "    <tr>\n",
       "      <th>1</th>\n",
       "      <td>0700099867</td>\n",
       "      <td>4</td>\n",
       "      <td>Good rally game</td>\n",
       "      <td>If you like rally cars get this game you will ...</td>\n",
       "      <td>2013-06-30</td>\n",
       "      <td>rally cars funit oriented 34european market34 ...</td>\n",
       "      <td>[rally, car, funit, oriented, 34european, mark...</td>\n",
       "      <td>53</td>\n",
       "      <td>24</td>\n",
       "      <td>29</td>\n",
       "    </tr>\n",
       "    <tr>\n",
       "      <th>2</th>\n",
       "      <td>0700099867</td>\n",
       "      <td>1</td>\n",
       "      <td>Wrong key</td>\n",
       "      <td>1st shipment received a book instead of the ga...</td>\n",
       "      <td>2014-06-28</td>\n",
       "      <td>1st shipment received book instead game2nd shi...</td>\n",
       "      <td>[1st, shipment, received, book, instead, game2...</td>\n",
       "      <td>53</td>\n",
       "      <td>27</td>\n",
       "      <td>26</td>\n",
       "    </tr>\n",
       "    <tr>\n",
       "      <th>3</th>\n",
       "      <td>0700099867</td>\n",
       "      <td>3</td>\n",
       "      <td>awesome game, if it did not crash frequently !!</td>\n",
       "      <td>I got this version instead of the PS3 version,...</td>\n",
       "      <td>2011-09-14</td>\n",
       "      <td>got version instead ps3 version turned mistake...</td>\n",
       "      <td>[got, version, instead, ps3, version, turned, ...</td>\n",
       "      <td>646</td>\n",
       "      <td>304</td>\n",
       "      <td>342</td>\n",
       "    </tr>\n",
       "    <tr>\n",
       "      <th>4</th>\n",
       "      <td>0700099867</td>\n",
       "      <td>4</td>\n",
       "      <td>DIRT 3</td>\n",
       "      <td>I had Dirt 2 on Xbox 360 and it was an okay ga...</td>\n",
       "      <td>2011-06-14</td>\n",
       "      <td>dirt 2 xbox 360 okay started playing laptop bo...</td>\n",
       "      <td>[dirt, 2, xbox, 360, okay, started, playing, l...</td>\n",
       "      <td>62</td>\n",
       "      <td>22</td>\n",
       "      <td>40</td>\n",
       "    </tr>\n",
       "  </tbody>\n",
       "</table>\n",
       "</div>"
      ],
      "text/plain": [
       "         Item  Stars                                     Review_Title  \\\n",
       "0  0700099867      1         Pay to unlock content? I don't think so.   \n",
       "1  0700099867      4                                  Good rally game   \n",
       "2  0700099867      1                                        Wrong key   \n",
       "3  0700099867      3  awesome game, if it did not crash frequently !!   \n",
       "4  0700099867      4                                           DIRT 3   \n",
       "\n",
       "                                              Review       Date  \\\n",
       "0  Installing the game was a struggle (because of... 2012-07-09   \n",
       "1  If you like rally cars get this game you will ... 2013-06-30   \n",
       "2  1st shipment received a book instead of the ga... 2014-06-28   \n",
       "3  I got this version instead of the PS3 version,... 2011-09-14   \n",
       "4  I had Dirt 2 on Xbox 360 and it was an okay ga... 2011-06-14   \n",
       "\n",
       "                                        Review_Clean  \\\n",
       "0  installing struggle windows live bugssome cham...   \n",
       "1  rally cars funit oriented 34european market34 ...   \n",
       "2  1st shipment received book instead game2nd shi...   \n",
       "3  got version instead ps3 version turned mistake...   \n",
       "4  dirt 2 xbox 360 okay started playing laptop bo...   \n",
       "\n",
       "                                        Review_Token  Review_Length  \\\n",
       "0  [installing, struggle, window, live, bugssome,...            118   \n",
       "1  [rally, car, funit, oriented, 34european, mark...             53   \n",
       "2  [1st, shipment, received, book, instead, game2...             53   \n",
       "3  [got, version, instead, ps3, version, turned, ...            646   \n",
       "4  [dirt, 2, xbox, 360, okay, started, playing, l...             62   \n",
       "\n",
       "   Review_Clean_Length  WordsRemoved  \n",
       "0                   55            63  \n",
       "1                   24            29  \n",
       "2                   27            26  \n",
       "3                  304           342  \n",
       "4                   22            40  "
      ]
     },
     "execution_count": 216,
     "metadata": {},
     "output_type": "execute_result"
    }
   ],
   "source": [
    "reviewdf.head()"
   ]
  },
  {
   "cell_type": "code",
   "execution_count": null,
   "metadata": {},
   "outputs": [],
   "source": []
  }
 ],
 "metadata": {
  "kernelspec": {
   "display_name": "Python 3",
   "language": "python",
   "name": "python3"
  },
  "language_info": {
   "codemirror_mode": {
    "name": "ipython",
    "version": 3
   },
   "file_extension": ".py",
   "mimetype": "text/x-python",
   "name": "python",
   "nbconvert_exporter": "python",
   "pygments_lexer": "ipython3",
   "version": "3.6.5"
  }
 },
 "nbformat": 4,
 "nbformat_minor": 2
}
